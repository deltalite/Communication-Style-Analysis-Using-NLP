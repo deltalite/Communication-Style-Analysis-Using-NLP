{
 "cells": [
  {
   "cell_type": "code",
   "execution_count": 1,
   "metadata": {},
   "outputs": [],
   "source": [
    "from selenium import webdriver\n",
    "from selenium.webdriver.common.by import By\n",
    "from selenium.webdriver.support.ui import Select\n",
    "from selenium.common.exceptions import NoSuchElementException\n",
    "PATH = r'C:\\Program Files (x86)'\n",
    "driver = webdriver.Chrome(PATH+r'\\chromedriver.exe')"
   ]
  },
  {
   "cell_type": "markdown",
   "metadata": {},
   "source": [
    "Thankfully, because of the scope of the project, there isn't many sites I'd need to go to and copy transcripts from. However, I know very little about webscrapers and thought this would be a good opportunity for me to try it out and use it (as well as show my progress in learning)."
   ]
  },
  {
   "cell_type": "code",
   "execution_count": 2,
   "metadata": {},
   "outputs": [],
   "source": [
    "speeches_url = \"https://jamesclear.com/great-speeches\"\n",
    "\n",
    "driver.get(speeches_url)\n",
    "link_tags = driver.find_elements_by_xpath(\"//ul/li/a\")\n",
    "links = [tag.get_attribute('href') for tag in link_tags]\n",
    "\n",
    "\n",
    "driver.quit()"
   ]
  },
  {
   "cell_type": "code",
   "execution_count": 3,
   "metadata": {},
   "outputs": [
    {
     "data": {
      "text/plain": [
       "['https://jamesclear.com/articles',\n",
       " 'https://jamesclear.com/books',\n",
       " 'https://jamesclear.com/3-2-1',\n",
       " 'https://jamesclear.com/events',\n",
       " 'https://jamesclear.com/about',\n",
       " 'https://jamesclear.com/great-speeches#mai-toggle',\n",
       " 'https://jamesclear.com/great-speeches#genesis-nav-header-right',\n",
       " 'https://jamesclear.com/great-speeches#genesis-content',\n",
       " 'https://jamesclear.com/great-speeches#genesis-sidebar-primary',\n",
       " 'https://jamesclear.com/great-speeches#genesis-footer-widgets',\n",
       " 'https://jamesclear.com/articles',\n",
       " 'https://jamesclear.com/books',\n",
       " 'https://jamesclear.com/3-2-1',\n",
       " 'https://jamesclear.com/events',\n",
       " 'https://jamesclear.com/about',\n",
       " 'https://habitsacademy.com/',\n",
       " 'https://jamesclear.com/great-speeches/the-danger-of-a-single-story-by-chimamanda-ngozi-adichie',\n",
       " 'https://jamesclear.com/great-speeches/what-matters-more-than-your-talents-by-jeff-bezos',\n",
       " 'https://jamesclear.com/great-speeches/enough-by-john-c-bogle',\n",
       " 'https://jamesclear.com/great-speeches/the-anatomy-of-trust-by-brene-brown',\n",
       " 'https://jamesclear.com/great-speeches/creativity-in-management-by-john-cleese',\n",
       " 'https://jamesclear.com/great-speeches/solitude-and-leadership-by-william-deresiewicz',\n",
       " 'https://jamesclear.com/great-speeches/seeking-new-laws-by-richard-feynman',\n",
       " 'https://jamesclear.com/great-speeches/make-good-art-by-neil-gaiman',\n",
       " 'https://jamesclear.com/great-speeches/personal-renewal-by-john-w-gardner',\n",
       " 'https://jamesclear.com/great-speeches/your-elusive-creative-genius-by-elizabeth-gilbert',\n",
       " 'https://jamesclear.com/great-speeches/the-common-denominator-of-success-by-albert-e-n-gray',\n",
       " 'https://jamesclear.com/great-speeches/runnin-down-a-dream-by-bill-gurley',\n",
       " 'https://jamesclear.com/great-speeches/learning-to-learn-by-richard-hamming',\n",
       " 'https://jamesclear.com/great-speeches/you-and-your-research-by-richard-hamming',\n",
       " 'https://jamesclear.com/great-speeches/2005-stanford-commencement-address-by-steve-jobs',\n",
       " 'https://jamesclear.com/great-speeches/the-multidisciplinary-approach-to-thinking-by-peter-kaufman',\n",
       " 'https://jamesclear.com/great-speeches/make-your-bed-by-admiral-william-h-mcraven',\n",
       " 'https://jamesclear.com/great-speeches/finding-your-own-vision-by-arno-rafael-minkkinen',\n",
       " 'https://jamesclear.com/great-speeches/2007-usc-law-school-commencement-address-by-charlie-munger',\n",
       " 'https://jamesclear.com/great-speeches/a-lesson-on-elementary-worldly-wisdom-by-charlie-munger',\n",
       " 'https://jamesclear.com/great-speeches/how-to-guarantee-a-life-of-misery-by-charlie-munger',\n",
       " 'https://jamesclear.com/great-speeches/psychology-of-human-misjudgment-by-charlie-munger',\n",
       " 'https://jamesclear.com/great-speeches/roadkill-on-the-information-highway-by-nathan-myhrvold',\n",
       " 'https://jamesclear.com/great-speeches/achieving-your-childhood-dreams-by-randy-pausch',\n",
       " 'https://jamesclear.com/great-speeches/time-management-by-randy-pausch',\n",
       " 'https://jamesclear.com/great-speeches/1999-mount-holyoke-commencement-speech-by-anna-quindlen',\n",
       " 'https://jamesclear.com/great-speeches/i-wish-you-bad-luck-by-john-roberts',\n",
       " 'https://jamesclear.com/great-speeches/do-schools-kill-creativity-by-ken-robinson',\n",
       " 'https://jamesclear.com/great-speeches/the-fringe-benefits-of-failure-and-the-importance-of-imagination-by-j-k-rowling',\n",
       " 'https://jamesclear.com/great-speeches/failures-of-kindness-by-george-saunders',\n",
       " 'https://jamesclear.com/great-speeches/creative-thinking-by-claude-shannon',\n",
       " 'https://jamesclear.com/great-speeches/dont-give-up-by-jim-valvano',\n",
       " 'https://jamesclear.com/great-speeches/inventing-on-principle-by-bret-victor',\n",
       " 'https://jamesclear.com/great-speeches/this-is-water-by-david-foster-wallace',\n",
       " 'https://jamesclear.com/great-speeches/just-do-it-by-art-williams',\n",
       " 'https://jamesclear.com/great-speeches/a-journey-on-the-information-highway-by-evan-williams',\n",
       " 'https://facebook.com/jamesclear',\n",
       " 'https://www.instagram.com/jamesclear/',\n",
       " 'https://twitter.com/jamesclear']"
      ]
     },
     "execution_count": 3,
     "metadata": {},
     "output_type": "execute_result"
    }
   ],
   "source": [
    "links"
   ]
  }
 ],
 "metadata": {
  "kernelspec": {
   "display_name": "Python 3",
   "language": "python",
   "name": "python3"
  },
  "language_info": {
   "codemirror_mode": {
    "name": "ipython",
    "version": 3
   },
   "file_extension": ".py",
   "mimetype": "text/x-python",
   "name": "python",
   "nbconvert_exporter": "python",
   "pygments_lexer": "ipython3",
   "version": "3.7.3"
  }
 },
 "nbformat": 4,
 "nbformat_minor": 2
}
